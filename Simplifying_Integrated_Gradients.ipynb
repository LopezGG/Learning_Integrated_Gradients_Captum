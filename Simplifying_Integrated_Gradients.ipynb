{
 "cells": [
  {
   "cell_type": "markdown",
   "metadata": {},
   "source": [
    "in this notebook, we will be simplifying some of the common techniques used in Captum for interpreting BERT<br>\n",
    "We will start with a simple Neural Network and then proceed to  Integrated Gradients. There are 3 sections:\n",
    "    1. Using Intergrated gradients from Captum Library\n",
    "    2. Writing a simplified version of Intergrated Gradients\n",
    "    3. Expanding the library function from captum without bells & whistles <br>\n",
    "The results from all the 3 methods can be found in the last cell"
   ]
  },
  {
   "cell_type": "code",
   "execution_count": 1,
   "metadata": {},
   "outputs": [],
   "source": [
    "import torch\n",
    "import torch.nn as nn\n",
    "import torch.nn.functional as F\n",
    "import torch.optim as optim\n",
    "from torch.autograd import grad\n",
    "import numpy as np\n",
    "from captum.attr import IntegratedGradients\n",
    "from IPython.display import Image"
   ]
  },
  {
   "cell_type": "markdown",
   "metadata": {},
   "source": [
    "##  Simple Neural Net"
   ]
  },
  {
   "cell_type": "code",
   "execution_count": 2,
   "metadata": {},
   "outputs": [],
   "source": [
    "class simpleNN(nn.Module):\n",
    "    def __init__(self):\n",
    "        super(simpleNN,self).__init__()\n",
    "        self.input_linear = nn.Linear(in_features=3,out_features=3,bias=True) # takes 2 features and outputs 3 \n",
    "        self.hidden= nn.Linear(in_features=3,out_features=2,bias=True) #one output for each class\n",
    "\n",
    "        \n",
    "    def forward(self,x):\n",
    "        x = F.relu(self.input_linear(x))\n",
    "        x= torch.sigmoid(self.hidden(x))\n",
    "        x = F.softmax(x,dim=1)\n",
    "        return x"
   ]
  },
  {
   "cell_type": "markdown",
   "metadata": {},
   "source": [
    "### Data & parameters"
   ]
  },
  {
   "cell_type": "code",
   "execution_count": 3,
   "metadata": {},
   "outputs": [],
   "source": [
    "inData = torch.tensor([[ 0.5, 0.3,0.6]],requires_grad=True) # shape is [1,3] Imagine this to be a word with 3 dimensional vector [batch_size,num_dim]\n",
    "baseline = torch.tensor([[ 0.3, 0.7,0.2]],requires_grad=True)\n",
    "target_index = 1 # index of second class\n",
    "num_steps = 10"
   ]
  },
  {
   "cell_type": "markdown",
   "metadata": {},
   "source": [
    "### Running Intergrated Gradients from Captum"
   ]
  },
  {
   "cell_type": "code",
   "execution_count": 4,
   "metadata": {},
   "outputs": [],
   "source": [
    "def predict_i(inputs):\n",
    "    logits = net(inputs) # I cant pass the model itself as a parameter to IntegratedGradients\n",
    "    return logits"
   ]
  },
  {
   "cell_type": "code",
   "execution_count": 5,
   "metadata": {},
   "outputs": [],
   "source": [
    "net = simpleNN()"
   ]
  },
  {
   "cell_type": "code",
   "execution_count": 6,
   "metadata": {},
   "outputs": [],
   "source": [
    "# passing this to Integrated Gradients method\n",
    "ig = IntegratedGradients(forward_func=predict_i)"
   ]
  },
  {
   "cell_type": "code",
   "execution_count": 7,
   "metadata": {},
   "outputs": [
    {
     "name": "stdout",
     "output_type": "stream",
     "text": [
      "Attributions associated with each dimension of the word are\n",
      "\t 0.0015\n",
      "\t 0.00244\n",
      "\t -0.00217\n"
     ]
    }
   ],
   "source": [
    "attributions_summary = ig.attribute(inputs=(inData),\n",
    "                                  baselines=(baseline),\n",
    "                                   n_steps=num_steps,\n",
    "                                   target =target_index)\n",
    "print(\"Attributions associated with each dimension of the word are\")\n",
    "for att in attributions_summary[0]:\n",
    "    print(\"\\t\", round(att.item(),5))"
   ]
  },
  {
   "cell_type": "markdown",
   "metadata": {},
   "source": [
    "### Simplified Intergrated Gradients"
   ]
  },
  {
   "cell_type": "markdown",
   "metadata": {},
   "source": [
    "Next we will recreate the results in understandable terms.  We start with creating 10 vectors which lie between input and baseline"
   ]
  },
  {
   "cell_type": "code",
   "execution_count": 8,
   "metadata": {},
   "outputs": [],
   "source": [
    "dim1 = torch.linspace(0, 1, num_steps).unsqueeze(-1) #[10, 1] i.e 10 columns , equally spaced points between 0 & 1\n",
    "#10 points between zero & 1. we stack it vertically thrice because each datapoint has 3 dimensions\n",
    "points = torch.cat((dim1,dim1,dim1),1).float() # [10, 3] [batch_size,dim]"
   ]
  },
  {
   "cell_type": "code",
   "execution_count": 9,
   "metadata": {},
   "outputs": [
    {
     "name": "stdout",
     "output_type": "stream",
     "text": [
      "In the data points shown below , first row is the baseline and last row is the input Data\n",
      "[[0.3        0.7        0.2       ]\n",
      " [0.32222223 0.65555555 0.24444446]\n",
      " [0.34444445 0.6111111  0.2888889 ]\n",
      " [0.36666667 0.56666666 0.33333337]\n",
      " [0.3888889  0.5222222  0.3777778 ]\n",
      " [0.41111112 0.47777778 0.42222226]\n",
      " [0.43333334 0.43333334 0.4666667 ]\n",
      " [0.45555556 0.3888889  0.51111114]\n",
      " [0.47777778 0.34444445 0.5555556 ]\n",
      " [0.5        0.3        0.6       ]]\n"
     ]
    }
   ],
   "source": [
    "delta_points_np = (baseline + points * (inData - baseline)).detach().numpy() #(10, 3)\n",
    "print(\"In the data points shown below , first row is the baseline and last row is the input Data\")\n",
    "print(delta_points_np)"
   ]
  },
  {
   "cell_type": "markdown",
   "metadata": {},
   "source": [
    "#### Implementing Intergrated Gradients formula"
   ]
  },
  {
   "cell_type": "code",
   "execution_count": 10,
   "metadata": {},
   "outputs": [
    {
     "data": {
      "image/jpeg": "[encoded data removed]",
      "text/plain": [
       "<IPython.core.display.Image object>"
      ]
     },
     "execution_count": 10,
     "metadata": {},
     "output_type": "execute_result"
    }
   ],
   "source": [
    "Image(\"Images/ig.JPG\")"
   ]
  },
  {
   "cell_type": "markdown",
   "metadata": {},
   "source": [
    "We will start with accumulating gradients in the second part of the formula"
   ]
  },
  {
   "cell_type": "markdown",
   "metadata": {},
   "source": [
    "#### Compute gradients for these 10 points "
   ]
  },
  {
   "cell_type": "code",
   "execution_count": 11,
   "metadata": {},
   "outputs": [],
   "source": [
    "gradient_l = []\n",
    "count = 0\n",
    "for row in delta_points_np:\n",
    "    delta_input = torch.tensor([row],requires_grad=True)\n",
    "    delta_output = net(delta_input) #[1, 2] [batch_size,num_classes]\n",
    "    target = delta_output[0][target_index].unsqueeze(-1) #[1] taking the \n",
    " \n",
    "    # Now compute gradients of the input with respect to the output:\n",
    "    d_loss_dx = grad(outputs=target, inputs=delta_input) # it is a tuple of which first element is gradient of delta_input\n",
    "    gradient_l.append(d_loss_dx[0])"
   ]
  },
  {
   "cell_type": "markdown",
   "metadata": {},
   "source": [
    "We are creating a function that takes in a list of gradient tensors and returns the mean"
   ]
  },
  {
   "cell_type": "code",
   "execution_count": 12,
   "metadata": {},
   "outputs": [],
   "source": [
    "def getTensorMean(TensorList):\n",
    "    tensor_2D = torch.stack(TensorList)\n",
    "    return torch.mean(tensor_2D,axis=0)"
   ]
  },
  {
   "cell_type": "code",
   "execution_count": 13,
   "metadata": {},
   "outputs": [
    {
     "name": "stdout",
     "output_type": "stream",
     "text": [
      "The means of gradients of 10 vectors between input and baseline\n"
     ]
    },
    {
     "data": {
      "text/plain": [
       "tensor([[ 0.0075, -0.0061, -0.0054]])"
      ]
     },
     "execution_count": 13,
     "metadata": {},
     "output_type": "execute_result"
    }
   ],
   "source": [
    "gradient_l_mean = getTensorMean(gradient_l)\n",
    "print(\"The means of gradients of 10 vectors between input and baseline\")\n",
    "gradient_l_mean"
   ]
  },
  {
   "cell_type": "markdown",
   "metadata": {},
   "source": [
    "Next we take the difference between input and baseline. This is a straight line between input and baseline"
   ]
  },
  {
   "cell_type": "code",
   "execution_count": 14,
   "metadata": {},
   "outputs": [
    {
     "data": {
      "text/plain": [
       "tensor([[ 0.2000, -0.4000,  0.4000]], grad_fn=<SubBackward0>)"
      ]
     },
     "execution_count": 14,
     "metadata": {},
     "output_type": "execute_result"
    }
   ],
   "source": [
    "diff = (inData-baseline)\n",
    "diff"
   ]
  },
  {
   "cell_type": "markdown",
   "metadata": {},
   "source": [
    "Multiplying it by the difference of the gradients"
   ]
  },
  {
   "cell_type": "code",
   "execution_count": 15,
   "metadata": {},
   "outputs": [
    {
     "name": "stdout",
     "output_type": "stream",
     "text": [
      "Attributions from simplified version of the code\n",
      "\t 0.0015\n",
      "\t 0.00244\n",
      "\t -0.00217\n"
     ]
    }
   ],
   "source": [
    "attributions = gradient_l_mean * diff\n",
    "print(\"Attributions from simplified version of the code\")\n",
    "for att in attributions[0]:\n",
    "    print(\"\\t\", round(att.item(),5))"
   ]
  },
  {
   "cell_type": "markdown",
   "metadata": {},
   "source": [
    "The above attributions are close to the ones from the library in **cell 22**. Next we can expand the library code in the section below to understand what the library does"
   ]
  },
  {
   "cell_type": "markdown",
   "metadata": {},
   "source": [
    "### Expanded Library Code"
   ]
  },
  {
   "cell_type": "markdown",
   "metadata": {},
   "source": [
    "Instead of taking equally spaced points , we generate these points with gausian legrande function"
   ]
  },
  {
   "cell_type": "markdown",
   "metadata": {},
   "source": [
    "#### Preparing Datapoints and target vectors "
   ]
  },
  {
   "cell_type": "code",
   "execution_count": 16,
   "metadata": {},
   "outputs": [],
   "source": [
    "step_sizes = list(0.5 * np.polynomial.legendre.leggauss(num_steps)[1])\n",
    "alphas = list(0.5 * (1 + np.polynomial.legendre.leggauss(num_steps)[0]))"
   ]
  },
  {
   "cell_type": "code",
   "execution_count": 17,
   "metadata": {},
   "outputs": [
    {
     "name": "stdout",
     "output_type": "stream",
     "text": [
      "Equally spaced\n",
      "tensor([[0.0000],\n",
      "        [0.1111],\n",
      "        [0.2222],\n",
      "        [0.3333],\n",
      "        [0.4444],\n",
      "        [0.5556],\n",
      "        [0.6667],\n",
      "        [0.7778],\n",
      "        [0.8889],\n",
      "        [1.0000]])\n"
     ]
    }
   ],
   "source": [
    "print(\"Equally spaced\")\n",
    "print (dim1)"
   ]
  },
  {
   "cell_type": "code",
   "execution_count": 18,
   "metadata": {},
   "outputs": [
    {
     "name": "stdout",
     "output_type": "stream",
     "text": [
      "gausian legrande function\n",
      "[0.013046735741414128, 0.06746831665550773, 0.16029521585048778, 0.2833023029353764, 0.4255628305091844, 0.5744371694908156, 0.7166976970646236, 0.8397047841495122, 0.9325316833444923, 0.9869532642585859]\n"
     ]
    }
   ],
   "source": [
    "print(\"gausian legrande function\")\n",
    "print(alphas)"
   ]
  },
  {
   "cell_type": "markdown",
   "metadata": {},
   "source": [
    "Creating 10 points between input and baseline"
   ]
  },
  {
   "cell_type": "code",
   "execution_count": 19,
   "metadata": {},
   "outputs": [],
   "source": [
    "delta_points =torch.cat([baseline + alpha * (inData - baseline) for alpha in alphas],dim=0).requires_grad_() #[10,3]"
   ]
  },
  {
   "cell_type": "markdown",
   "metadata": {},
   "source": [
    "We will create a tensor for the required target class as follows : "
   ]
  },
  {
   "cell_type": "code",
   "execution_count": 20,
   "metadata": {},
   "outputs": [],
   "source": [
    "target = torch.cat(num_steps* [torch.tensor([target_index])]) #[num_steps] [10]\n",
    "target = target.reshape(num_steps, 1) #[num_steps,1] [10, 1]"
   ]
  },
  {
   "cell_type": "code",
   "execution_count": 21,
   "metadata": {},
   "outputs": [
    {
     "data": {
      "text/plain": [
       "tensor([[1],\n",
       "        [1],\n",
       "        [1],\n",
       "        [1],\n",
       "        [1],\n",
       "        [1],\n",
       "        [1],\n",
       "        [1],\n",
       "        [1],\n",
       "        [1]])"
      ]
     },
     "execution_count": 21,
     "metadata": {},
     "output_type": "execute_result"
    }
   ],
   "source": [
    "target"
   ]
  },
  {
   "cell_type": "markdown",
   "metadata": {},
   "source": [
    "#### Running through Ig"
   ]
  },
  {
   "cell_type": "markdown",
   "metadata": {},
   "source": [
    "Let's get the probability of target class occuring in each of the 10 vectors "
   ]
  },
  {
   "cell_type": "code",
   "execution_count": 22,
   "metadata": {},
   "outputs": [
    {
     "data": {
      "text/plain": [
       "tensor([[0.5175],\n",
       "        [0.5176],\n",
       "        [0.5178],\n",
       "        [0.5180],\n",
       "        [0.5183],\n",
       "        [0.5185],\n",
       "        [0.5188],\n",
       "        [0.5190],\n",
       "        [0.5192],\n",
       "        [0.5193]], grad_fn=<GatherBackward>)"
      ]
     },
     "execution_count": 22,
     "metadata": {},
     "output_type": "execute_result"
    }
   ],
   "source": [
    "output = net(delta_points)\n",
    "target_Dp = torch.gather(output, 1, target)\n",
    "assert target_Dp[0].numel() == 1\n",
    "target_Dp"
   ]
  },
  {
   "cell_type": "markdown",
   "metadata": {},
   "source": [
    "Obtaining gradients of the output with respect to the input"
   ]
  },
  {
   "cell_type": "code",
   "execution_count": 23,
   "metadata": {},
   "outputs": [],
   "source": [
    "grads = torch.autograd.grad(torch.unbind(target_Dp), delta_points) # torch.unbind removes one dimension"
   ]
  },
  {
   "cell_type": "code",
   "execution_count": 24,
   "metadata": {},
   "outputs": [
    {
     "name": "stdout",
     "output_type": "stream",
     "text": [
      "The gradient we calculated in simplified version\n"
     ]
    },
    {
     "data": {
      "text/plain": [
       "[tensor([[ 0.0076, -0.0062, -0.0055]]),\n",
       " tensor([[ 0.0076, -0.0062, -0.0055]]),\n",
       " tensor([[ 0.0076, -0.0061, -0.0055]]),\n",
       " tensor([[ 0.0075, -0.0061, -0.0055]]),\n",
       " tensor([[ 0.0075, -0.0061, -0.0054]]),\n",
       " tensor([[ 0.0075, -0.0061, -0.0054]]),\n",
       " tensor([[ 0.0075, -0.0061, -0.0054]]),\n",
       " tensor([[ 0.0074, -0.0060, -0.0054]]),\n",
       " tensor([[ 0.0074, -0.0060, -0.0054]]),\n",
       " tensor([[ 0.0074, -0.0060, -0.0054]])]"
      ]
     },
     "execution_count": 24,
     "metadata": {},
     "output_type": "execute_result"
    }
   ],
   "source": [
    "print(\"The gradient we calculated in simplified version\")\n",
    "gradient_l"
   ]
  },
  {
   "cell_type": "code",
   "execution_count": 25,
   "metadata": {},
   "outputs": [
    {
     "name": "stdout",
     "output_type": "stream",
     "text": [
      "the gradient we calculated using library functions in cell 11\n"
     ]
    },
    {
     "data": {
      "text/plain": [
       "(tensor([[ 0.0076, -0.0062, -0.0055],\n",
       "         [ 0.0076, -0.0062, -0.0055],\n",
       "         [ 0.0076, -0.0061, -0.0055],\n",
       "         [ 0.0076, -0.0061, -0.0055],\n",
       "         [ 0.0075, -0.0061, -0.0054],\n",
       "         [ 0.0075, -0.0061, -0.0054],\n",
       "         [ 0.0075, -0.0061, -0.0054],\n",
       "         [ 0.0074, -0.0060, -0.0054],\n",
       "         [ 0.0074, -0.0060, -0.0054],\n",
       "         [ 0.0074, -0.0060, -0.0054]]),)"
      ]
     },
     "execution_count": 25,
     "metadata": {},
     "output_type": "execute_result"
    }
   ],
   "source": [
    "print(\"the gradient we calculated using library functions in cell 11\")\n",
    "grads"
   ]
  },
  {
   "cell_type": "markdown",
   "metadata": {},
   "source": [
    "scaled_grads seems to be smoothing the values by multiplying with step sizes"
   ]
  },
  {
   "cell_type": "code",
   "execution_count": 26,
   "metadata": {},
   "outputs": [
    {
     "data": {
      "text/plain": [
       "[tensor([[ 0.0003, -0.0002, -0.0002],\n",
       "         [ 0.0006, -0.0005, -0.0004],\n",
       "         [ 0.0008, -0.0007, -0.0006],\n",
       "         [ 0.0010, -0.0008, -0.0007],\n",
       "         [ 0.0011, -0.0009, -0.0008],\n",
       "         [ 0.0011, -0.0009, -0.0008],\n",
       "         [ 0.0010, -0.0008, -0.0007],\n",
       "         [ 0.0008, -0.0007, -0.0006],\n",
       "         [ 0.0006, -0.0004, -0.0004],\n",
       "         [ 0.0002, -0.0002, -0.0002]], dtype=torch.float64)]"
      ]
     },
     "execution_count": 26,
     "metadata": {},
     "output_type": "execute_result"
    }
   ],
   "source": [
    "# flattening grads so that we can multilpy it with step-size\n",
    "# calling contiguous to avoid `memory whole` problems\n",
    "n_steps=10\n",
    "scaled_grads = [\n",
    "    grad.contiguous().view(n_steps, -1)\n",
    "    * torch.tensor(step_sizes).view(n_steps, 1).to(grad.device)\n",
    "    for grad in grads\n",
    "]\n",
    "scaled_grads"
   ]
  },
  {
   "cell_type": "code",
   "execution_count": 27,
   "metadata": {},
   "outputs": [],
   "source": [
    "from torch import Tensor\n",
    "from typing import Tuple\n",
    "def _reshape_and_sum(\n",
    "    tensor_input: Tensor, num_steps: int, num_examples: int, layer_size: Tuple[int, ...]\n",
    ") -> Tensor:\n",
    "    # Used for attribution methods which perform integration\n",
    "    # Sums across integration steps by reshaping tensor to\n",
    "    # (num_steps, num_examples, (layer_size)) and summing over\n",
    "    # dimension 0. Returns a tensor of size (num_examples, (layer_size))\n",
    "    print(\"layer_size\",layer_size)\n",
    "    print(\"num_examples\",num_examples)\n",
    "    print(\"num_steps\",num_steps)\n",
    "    return torch.sum(\n",
    "        tensor_input.reshape((num_steps, num_examples) + layer_size), dim=0\n",
    "    )"
   ]
  },
  {
   "cell_type": "code",
   "execution_count": 28,
   "metadata": {},
   "outputs": [
    {
     "name": "stdout",
     "output_type": "stream",
     "text": [
      "layer_size torch.Size([3])\n",
      "num_examples 1\n",
      "num_steps 10\n",
      "Total gradients after smoothing it out a bit\n",
      "\t 0.0075060081458132085\n",
      "\t -0.006091049426064586\n",
      "\t -0.005426962098435991\n"
     ]
    }
   ],
   "source": [
    "# aggregates across all steps for each tensor in the input tuple\n",
    "# total_grads has the same dimensionality as inputs\n",
    "total_grads = [\n",
    "    _reshape_and_sum(\n",
    "        tensor_input=scaled_grad, num_steps=n_steps, num_examples=grad.shape[0] // n_steps, layer_size=grad.shape[1:] # // is integer division\n",
    "    )\n",
    "    for (scaled_grad, grad) in zip(scaled_grads, grads)\n",
    "]\n",
    "print (\"Total gradients after smoothing it out a bit\")\n",
    "for tg in total_grads[0][0]:\n",
    "    print(\"\\t\",tg.item())"
   ]
  },
  {
   "cell_type": "code",
   "execution_count": 29,
   "metadata": {},
   "outputs": [
    {
     "name": "stdout",
     "output_type": "stream",
     "text": [
      "Comparing it with the mean we generated in cell 13\n",
      "\t 0.007505772169679403\n",
      "\t -0.006090858019888401\n",
      "\t -0.005426791496574879\n"
     ]
    }
   ],
   "source": [
    "print (\"Comparing it with the mean we generated in cell 13\")\n",
    "for tg in gradient_l_mean[0]:\n",
    "    print(\"\\t\",tg.item())"
   ]
  },
  {
   "cell_type": "code",
   "execution_count": 30,
   "metadata": {},
   "outputs": [],
   "source": [
    "# computes attribution for each tensor in input tuple\n",
    "# attributions has the same dimensionality as inputs\n",
    "attributions_expanded_code = tuple(\n",
    "    total_grad * (input - base)\n",
    "    for total_grad, input, base in zip(total_grads, inData, baseline)\n",
    ")\n",
    "\n"
   ]
  },
  {
   "cell_type": "code",
   "execution_count": 31,
   "metadata": {},
   "outputs": [
    {
     "name": "stdout",
     "output_type": "stream",
     "text": [
      "Attributions from library code\n",
      "\t 0.0015\n",
      "\t 0.00244\n",
      "\t -0.00217\n",
      "Attributions from simplified version of the code\n",
      "\t 0.0015\n",
      "\t 0.00244\n",
      "\t -0.00217\n",
      "attributions from expanding library code\n",
      "\t 0.0015\n",
      "\t 0.00244\n",
      "\t -0.00217\n"
     ]
    }
   ],
   "source": [
    "print(\"Attributions from library code\")\n",
    "for att in attributions_summary[0]:\n",
    "    print(\"\\t\", round(att.item(),5))\n",
    "\n",
    "print(\"Attributions from simplified version of the code\")\n",
    "for att in attributions[0]:\n",
    "    print(\"\\t\", round(att.item(),5))\n",
    "    \n",
    "print(\"attributions from expanding library code\")\n",
    "for att in attributions_expanded_code[0][0]:\n",
    "    print(\"\\t\", round(att.item(),5))"
   ]
  },
  {
   "cell_type": "markdown",
   "metadata": {},
   "source": [
    "## Reference\n",
    "1. https://distill.pub/2020/attribution-baselines/"
   ]
  }
 ],
 "metadata": {
  "kernelspec": {
   "display_name": "interpret_k1",
   "language": "python",
   "name": "interpret_k1"
  },
  "language_info": {
   "codemirror_mode": {
    "name": "ipython",
    "version": 3
   },
   "file_extension": ".py",
   "mimetype": "text/x-python",
   "name": "python",
   "nbconvert_exporter": "python",
   "pygments_lexer": "ipython3",
   "version": "3.8.5"
  }
 },
 "nbformat": 4,
 "nbformat_minor": 2
}
